{
 "cells": [
  {
   "cell_type": "code",
   "execution_count": 13,
   "id": "522c2c05",
   "metadata": {},
   "outputs": [],
   "source": [
    "s = \"Everything is right wrong\"\n",
    "p = '000010000'\n",
    "for i in p:\n",
    "    if i.isalpha()  :\n",
    "        print(i.lower())"
   ]
  },
  {
   "cell_type": "code",
   "execution_count": 9,
   "id": "323b436b",
   "metadata": {},
   "outputs": [
    {
     "data": {
      "text/plain": [
       "'amanaP :lanac a ,nalp a ,nam A'"
      ]
     },
     "execution_count": 9,
     "metadata": {},
     "output_type": "execute_result"
    }
   ],
   "source": [
    "s[::-1]"
   ]
  },
  {
   "cell_type": "code",
   "execution_count": null,
   "id": "b00ad4ba",
   "metadata": {},
   "outputs": [],
   "source": []
  }
 ],
 "metadata": {
  "kernelspec": {
   "display_name": "Python 3 (ipykernel)",
   "language": "python",
   "name": "python3"
  },
  "language_info": {
   "codemirror_mode": {
    "name": "ipython",
    "version": 3
   },
   "file_extension": ".py",
   "mimetype": "text/x-python",
   "name": "python",
   "nbconvert_exporter": "python",
   "pygments_lexer": "ipython3",
   "version": "3.9.12"
  }
 },
 "nbformat": 4,
 "nbformat_minor": 5
}
